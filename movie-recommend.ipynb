{
 "cells": [
  {
   "cell_type": "code",
   "execution_count": 1,
   "id": "df47e931-943d-43d9-8f22-8ad891d9a1a6",
   "metadata": {},
   "outputs": [],
   "source": [
    "# !pip install kagglehub"
   ]
  },
  {
   "cell_type": "code",
   "execution_count": 2,
   "id": "fb68d4c9-4d06-4fd2-b382-882bd46f618a",
   "metadata": {},
   "outputs": [],
   "source": [
    "# import kagglehub\n",
    "\n",
    "# path = kagglehub.dataset_download(\"tmdb/tmdb-movie-metadata\")\n",
    "\n",
    "# print(\"Path to dataset files:\", path)"
   ]
  },
  {
   "cell_type": "code",
   "execution_count": 3,
   "id": "29df2cd7-c42b-4f4a-9d14-2cd86e952827",
   "metadata": {},
   "outputs": [],
   "source": [
    "#import Necessary Libraries\n",
    "import pandas as pd\n",
    "import ast\n",
    "import os"
   ]
  },
  {
   "cell_type": "code",
   "execution_count": 4,
   "id": "953bfe13",
   "metadata": {},
   "outputs": [
    {
     "name": "stdout",
     "output_type": "stream",
     "text": [
      "C:\\Users\\acer\\.cache\\kagglehub\\datasets\\tmdb\\tmdb-movie-metadata\\versions\\2\\tmdb_5000_credits.csv\n",
      "C:\\Users\\acer\\.cache\\kagglehub\\datasets\\tmdb\\tmdb-movie-metadata\\versions\\2\\tmdb_5000_movies.csv\n"
     ]
    }
   ],
   "source": [
    "# Data Loading\n",
    "dataset_path = r\"C:\\Users\\acer\\.cache\\kagglehub\\datasets\\tmdb\\tmdb-movie-metadata\\versions\\2\"\n",
    "\n",
    "for dirname, _, filenames in os.walk(dataset_path):\n",
    "    for filename in filenames:\n",
    "        print(os.path.join(dirname, filename))\n",
    "\n",
    "movies = pd.read_csv(r'C:\\Users\\acer\\.cache\\kagglehub\\datasets\\tmdb\\tmdb-movie-metadata\\versions\\2\\tmdb_5000_credits.csv')\n",
    "credits = pd.read_csv(r'C:\\Users\\acer\\.cache\\kagglehub\\datasets\\tmdb\\tmdb-movie-metadata\\versions\\2\\tmdb_5000_movies.csv')\n",
    "\n",
    "credits = credits[['title','genres','keywords','overview']]\n",
    "movies = movies.merge(credits,on=\"title\")"
   ]
  },
  {
   "cell_type": "code",
   "execution_count": 5,
   "id": "145173ee",
   "metadata": {},
   "outputs": [],
   "source": [
    "#Data Preprocessing\n",
    "movies.dropna(inplace=True)"
   ]
  },
  {
   "cell_type": "code",
   "execution_count": 6,
   "id": "be355df0",
   "metadata": {},
   "outputs": [],
   "source": [
    "#Fetching only top3 cast\n",
    "def convert_cast(text):\n",
    "    count=0\n",
    "    l = []\n",
    "    for i in ast.literal_eval(text):\n",
    "        if count<3:\n",
    "            l.append(i['name'])\n",
    "        count+=1\n",
    "    return l\n",
    "    \n",
    "movies['cast'] = movies['cast'].apply(convert_cast)"
   ]
  },
  {
   "cell_type": "code",
   "execution_count": 7,
   "id": "53083d0d",
   "metadata": {},
   "outputs": [],
   "source": [
    "#Fetching only Director name from Crew\n",
    "def convert_crew(text):\n",
    "    l = []\n",
    "    for i in ast.literal_eval(text):\n",
    "        if i['job']=='Director':\n",
    "            l.append(i['name'])\n",
    "    return l\n",
    "\n",
    "movies['crew'] = movies['crew'].apply(convert_crew)"
   ]
  },
  {
   "cell_type": "code",
   "execution_count": 8,
   "id": "a81bedc8",
   "metadata": {},
   "outputs": [],
   "source": [
    "#Formatting genres and keywords columns\n",
    "def convert(text):\n",
    "    l = []\n",
    "    for i in ast.literal_eval(text):\n",
    "        l.append(i['name'])\n",
    "    return l\n",
    "    \n",
    "movies['genres'] = movies['genres'].apply(convert)\n",
    "movies['keywords'] = movies['keywords'].apply(convert)"
   ]
  },
  {
   "cell_type": "code",
   "execution_count": 9,
   "id": "a821ae6a",
   "metadata": {},
   "outputs": [],
   "source": [
    "#Removing the extra spaces\n",
    "def collapse(L):\n",
    "    L1 = []\n",
    "    for i in L:\n",
    "        L1.append(i.replace(\" \",\"\"))\n",
    "    return L1\n",
    "    \n",
    "movies['cast'] = movies['cast'].apply(collapse)\n",
    "movies['crew'] = movies['crew'].apply(collapse)\n",
    "movies['genres'] = movies['genres'].apply(collapse)\n",
    "movies['keywords'] = movies['keywords'].apply(collapse)"
   ]
  },
  {
   "cell_type": "code",
   "execution_count": 10,
   "id": "f723e3f5",
   "metadata": {},
   "outputs": [],
   "source": [
    "#Text Preprocessing\n",
    "movies['overview']=movies['overview'].apply(lambda x: x.split())\n",
    "\n",
    "movies['tags'] = movies['overview'] + movies['genres'] + movies['keywords'] + movies['cast'] + movies['crew']\n",
    "new_df = movies.drop(columns=['overview','genres','keywords','cast','crew'])\n",
    "\n",
    "from nltk.stem import WordNetLemmatizer\n",
    "\n",
    "def stem(text):\n",
    "    lemmatizer = WordNetLemmatizer()\n",
    "    l = []\n",
    "    for word in text:\n",
    "        l.append(lemmatizer.lemmatize(word))\n",
    "    return l\n",
    "\n",
    "new_df['tags'] = new_df['tags'].apply(stem)\n",
    "\n",
    "new_df['tags'] = new_df['tags'].apply(lambda x: \" \".join(x))"
   ]
  },
  {
   "cell_type": "code",
   "execution_count": 17,
   "id": "6cc4d9a0",
   "metadata": {},
   "outputs": [
    {
     "data": {
      "text/html": [
       "<div>\n",
       "<style scoped>\n",
       "    .dataframe tbody tr th:only-of-type {\n",
       "        vertical-align: middle;\n",
       "    }\n",
       "\n",
       "    .dataframe tbody tr th {\n",
       "        vertical-align: top;\n",
       "    }\n",
       "\n",
       "    .dataframe thead th {\n",
       "        text-align: right;\n",
       "    }\n",
       "</style>\n",
       "<table border=\"1\" class=\"dataframe\">\n",
       "  <thead>\n",
       "    <tr style=\"text-align: right;\">\n",
       "      <th></th>\n",
       "      <th>movie_id</th>\n",
       "      <th>title</th>\n",
       "      <th>tags</th>\n",
       "    </tr>\n",
       "  </thead>\n",
       "  <tbody>\n",
       "    <tr>\n",
       "      <th>0</th>\n",
       "      <td>19995</td>\n",
       "      <td>Avatar</td>\n",
       "      <td>In the 22nd century, a paraplegic Marine is di...</td>\n",
       "    </tr>\n",
       "  </tbody>\n",
       "</table>\n",
       "</div>"
      ],
      "text/plain": [
       "   movie_id   title                                               tags\n",
       "0     19995  Avatar  In the 22nd century, a paraplegic Marine is di..."
      ]
     },
     "execution_count": 17,
     "metadata": {},
     "output_type": "execute_result"
    }
   ],
   "source": [
    "new_df.head(1)"
   ]
  },
  {
   "cell_type": "code",
   "execution_count": 11,
   "id": "22271d33",
   "metadata": {},
   "outputs": [],
   "source": [
    "#Applying Bag of Words\n",
    "from sklearn.feature_extraction.text import CountVectorizer\n",
    "cv = CountVectorizer(max_features=5000,stop_words='english')\n",
    "vector = cv.fit_transform(new_df['tags']).toarray()"
   ]
  },
  {
   "cell_type": "code",
   "execution_count": 12,
   "id": "a8b202e0",
   "metadata": {},
   "outputs": [
    {
     "name": "stdout",
     "output_type": "stream",
     "text": [
      "The Dark Knight\n",
      "The Dark Knight Rises\n",
      "Batman\n",
      "Batman & Robin\n"
     ]
    }
   ],
   "source": [
    "#Appling cosine similarity to determine the similar movies based on tags\n",
    "from sklearn.metrics.pairwise import cosine_similarity\n",
    "similarity = cosine_similarity(vector)\n",
    "\n",
    "\n",
    "def recommend(movie):\n",
    "    index = new_df[new_df['title']==movie].index[0]\n",
    "    distances = sorted(list(enumerate(similarity[index])),reverse=True,key = lambda x: x[1])\n",
    "    for i in distances[1:5]:\n",
    "        print(new_df.iloc[i[0]].title)\n",
    "\n",
    "recommend('Batman Begins')"
   ]
  },
  {
   "cell_type": "code",
   "execution_count": 13,
   "id": "ceb22a83",
   "metadata": {},
   "outputs": [],
   "source": [
    "import pickle\n",
    "\n",
    "pickle.dump(similarity,open(\"similarity.pkl\",'wb'))\n",
    "pickle.dump(new_df,open('movie_list.pkl','wb'))"
   ]
  }
 ],
 "metadata": {
  "kernelspec": {
   "display_name": "Python 3",
   "language": "python",
   "name": "python3"
  },
  "language_info": {
   "codemirror_mode": {
    "name": "ipython",
    "version": 3
   },
   "file_extension": ".py",
   "mimetype": "text/x-python",
   "name": "python",
   "nbconvert_exporter": "python",
   "pygments_lexer": "ipython3",
   "version": "3.10.0"
  }
 },
 "nbformat": 4,
 "nbformat_minor": 5
}
